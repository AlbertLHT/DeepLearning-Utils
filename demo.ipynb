{
 "cells": [
  {
   "cell_type": "code",
   "execution_count": 1,
   "metadata": {
    "ExecuteTime": {
     "end_time": "2020-03-01T06:21:24.979307Z",
     "start_time": "2020-03-01T06:21:24.718261Z"
    }
   },
   "outputs": [],
   "source": [
    "import numpy as np\n",
    "from kmeans import AnchorKmeans\n",
    "from datasets import parse_xml\n",
    "from matplotlib import pyplot as plt\n",
    "from matplotlib.patches import Rectangle\n",
    "%matplotlib inline\n",
    "\n",
    "plt.style.use('ggplot')"
   ]
  },
  {
   "cell_type": "code",
   "execution_count": 5,
   "metadata": {
    "ExecuteTime": {
     "end_time": "2020-03-01T06:22:31.226806Z",
     "start_time": "2020-03-01T06:22:28.186839Z"
    }
   },
   "outputs": [
    {
     "name": "stdout",
     "output_type": "stream",
     "text": [
      "[INFO] Load datas\n",
      "boxes shape : (40138, 2)\n"
     ]
    }
   ],
   "source": [
    "print('[INFO] Load datas')\n",
    "annot_dir = \"/PATH TO YOUR/VOCdevkit/VOC2012/Annotations\"\n",
    "boxes = parse_xml(annot_dir)\n",
    "print('boxes shape : {}'.format(boxes.shape))"
   ]
  },
  {
   "cell_type": "code",
   "execution_count": 6,
   "metadata": {
    "ExecuteTime": {
     "end_time": "2020-03-01T06:22:44.113843Z",
     "start_time": "2020-03-01T06:22:33.711814Z"
    }
   },
   "outputs": [
    {
     "name": "stdout",
     "output_type": "stream",
     "text": [
      "[INFO] Run anchor k-means with k = 2,3,...,10\n",
      "K = 2, Avg IOU = 0.4646\n",
      "K = 3, Avg IOU = 0.5391\n",
      "K = 4, Avg IOU = 0.5801\n",
      "K = 5, Avg IOU = 0.6016\n",
      "K = 6, Avg IOU = 0.6252\n",
      "K = 7, Avg IOU = 0.6434\n",
      "K = 8, Avg IOU = 0.6596\n",
      "K = 9, Avg IOU = 0.6732\n",
      "K = 10, Avg IOU = 0.6838\n"
     ]
    }
   ],
   "source": [
    "print('[INFO] Run anchor k-means with k = 2,3,...,10')\n",
    "results = {}\n",
    "for k in range(2, 11):\n",
    "    model = AnchorKmeans(k, random_seed=333)\n",
    "    model.fit(boxes)\n",
    "    avg_iou = model.avg_iou()\n",
    "    results[k] = {'anchors': model.anchors_, 'avg_iou': avg_iou}\n",
    "    print(\"K = {}, Avg IOU = {:.4f}\".format(k, avg_iou))"
   ]
  },
  {
   "cell_type": "code",
   "execution_count": 7,
   "metadata": {
    "ExecuteTime": {
     "end_time": "2020-03-01T06:22:45.631244Z",
     "start_time": "2020-03-01T06:22:45.512249Z"
    }
   },
   "outputs": [
    {
     "name": "stdout",
     "output_type": "stream",
     "text": [
      "[INFO] Plot average IOU curve\n"
     ]
    },
    {
     "data": {
      "image/png": "[encoded data removed]",
      "text/plain": [
       "<Figure size 432x288 with 1 Axes>"
      ]
     },
     "metadata": {
      "needs_background": "light"
     },
     "output_type": "display_data"
    }
   ],
   "source": [
    "print('[INFO] Plot average IOU curve')\n",
    "plt.figure()\n",
    "plt.plot(range(2, 11), [results[k][\"avg_iou\"] for k in range(2, 11)], \"o-\")\n",
    "plt.ylabel(\"Avg IOU\")\n",
    "plt.xlabel(\"K (#anchors)\")\n",
    "plt.show()"
   ]
  },
  {
   "cell_type": "code",
   "execution_count": 9,
   "metadata": {
    "ExecuteTime": {
     "end_time": "2020-03-01T06:23:10.679338Z",
     "start_time": "2020-03-01T06:23:10.674339Z"
    }
   },
   "outputs": [
    {
     "name": "stdout",
     "output_type": "stream",
     "text": [
      "[INFO] The result anchors:\n",
      "[[0.7794355  0.8338808 ]\n",
      " [0.33883529 0.68815335]\n",
      " [0.61044288 0.40655773]\n",
      " [0.19493034 0.35335266]\n",
      " [0.07805765 0.13006786]]\n"
     ]
    }
   ],
   "source": [
    "print('[INFO] The result anchors:')\n",
    "best_k = 5\n",
    "anchors = results[best_k]['anchors']\n",
    "print(anchors)"
   ]
  },
  {
   "cell_type": "code",
   "execution_count": 10,
   "metadata": {
    "ExecuteTime": {
     "end_time": "2020-03-01T06:23:22.799217Z",
     "start_time": "2020-03-01T06:23:22.686254Z"
    }
   },
   "outputs": [
    {
     "name": "stdout",
     "output_type": "stream",
     "text": [
      "[INFO] Visualizing anchors\n"
     ]
    },
    {
     "data": {
      "image/png": "[encoded data removed]",
      "text/plain": [
       "<Figure size 576x432 with 1 Axes>"
      ]
     },
     "metadata": {
      "needs_background": "light"
     },
     "output_type": "display_data"
    }
   ],
   "source": [
    "print('[INFO] Visualizing anchors')\n",
    "w_img, h_img = 600, 600\n",
    "\n",
    "anchors[:, 0] *= w_img\n",
    "anchors[:, 1] *= h_img\n",
    "anchors = np.round(anchors).astype(np.int)\n",
    "\n",
    "rects = np.empty((5, 4), dtype=np.int)\n",
    "for i in range(len(anchors)):\n",
    "    w, h = anchors[i]\n",
    "    x1, y1 = -(w // 2), -(h // 2)\n",
    "    rects[i] = [x1, y1, w, h]\n",
    "\n",
    "fig = plt.figure(figsize=(8, 6))\n",
    "ax = fig.add_subplot()\n",
    "for rect in rects:\n",
    "    x1, y1, w, h = rect\n",
    "    rect1 = Rectangle((x1, y1), w, h, color='royalblue', fill=False, linewidth=2)\n",
    "    ax.add_patch(rect1)\n",
    "plt.xlim([-(w_img // 2), w_img // 2])\n",
    "plt.ylim([-(h_img // 2), h_img // 2])\n",
    "\n",
    "plt.show()"
   ]
  }
 ],
 "metadata": {
  "kernelspec": {
   "display_name": "Python 3",
   "language": "python",
   "name": "python3"
  },
  "language_info": {
   "codemirror_mode": {
    "name": "ipython",
    "version": 3
   },
   "file_extension": ".py",
   "mimetype": "text/x-python",
   "name": "python",
   "nbconvert_exporter": "python",
   "pygments_lexer": "ipython3",
   "version": "3.7.4"
  },
  "toc": {
   "base_numbering": 1,
   "nav_menu": {},
   "number_sections": true,
   "sideBar": true,
   "skip_h1_title": false,
   "title_cell": "Table of Contents",
   "title_sidebar": "Contents",
   "toc_cell": false,
   "toc_position": {},
   "toc_section_display": true,
   "toc_window_display": false
  }
 },
 "nbformat": 4,
 "nbformat_minor": 2
}
